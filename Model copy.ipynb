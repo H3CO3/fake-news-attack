{
 "cells": [
  {
   "cell_type": "code",
   "execution_count": 1,
   "metadata": {},
   "outputs": [],
   "source": [
    "import numpy as np\n",
    "\n",
    "import warnings\n",
    "warnings.filterwarnings('ignore')\n"
   ]
  },
  {
   "cell_type": "markdown",
   "metadata": {},
   "source": [
    "### Dataset"
   ]
  },
  {
   "cell_type": "markdown",
   "metadata": {},
   "source": [
    "download kaggle dataset: https://www.kaggle.com/datasets/clmentbisaillon/fake-and-real-news-dataset/download?datasetVersionNumber=1  \n",
    "download liar dataset: https://www.cs.ucsb.edu/~william/data/liar_dataset.zip"
   ]
  },
  {
   "cell_type": "code",
   "execution_count": 2,
   "metadata": {},
   "outputs": [],
   "source": [
    "from load_dataset import kaggle_dataset\n",
    "from load_dataset import liar_dataset\n",
    "kaggle_path = \"./dataset/Fake-News/\"\n",
    "liar_path = \"./dataset/Liar/\"\n",
    "\n",
    "# Pick dataset you want:\n",
    "# If kaggle:\n",
    "# dataset = kaggle_dataset(kaggle_path)\n",
    "# If Liar:\n",
    "dataset = liar_dataset(liar_path)\n",
    "\n",
    "train_sentences = dataset.train_sentences\n",
    "val_sentences = dataset.val_sentences\n",
    "train_labels = dataset.train_labels\n",
    "val_labels = dataset.val_labels"
   ]
  },
  {
   "cell_type": "markdown",
   "metadata": {},
   "source": [
    "### Model"
   ]
  },
  {
   "cell_type": "markdown",
   "metadata": {},
   "source": [
    "##### Word Enbedding:  \n",
    "pre-trained text embedding model from TensorFlow Hub  \n",
    "more text-embedding download in https://tfhub.dev/s?module-type=text-embedding  \n",
    "NNLM:  \n",
    "plain text -> value [batch_size, 128]  \n",
    "BERT:  \n",
    "plain text -> pooled_output [batch_size, 128]  \n",
    "              sequence_output [batch_size, seq_length, 128]  "
   ]
  },
  {
   "cell_type": "markdown",
   "metadata": {},
   "source": [
    "##### Network"
   ]
  },
  {
   "cell_type": "code",
   "execution_count": 3,
   "metadata": {},
   "outputs": [],
   "source": [
    "# Split a small batch of dataset to continue (save time...)\n",
    "i = 2000\n",
    "train_x = train_sentences[:i]\n",
    "val_x = val_sentences[:int(0.2*i)]\n",
    "train_y = train_labels[:i]\n",
    "val_y = val_labels[:int(0.2*i)]"
   ]
  },
  {
   "cell_type": "code",
   "execution_count": 4,
   "metadata": {},
   "outputs": [
    {
     "name": "stdout",
     "output_type": "stream",
     "text": [
      "WARNING:tensorflow:Please fix your imports. Module tensorflow.python.training.tracking.data_structures has been moved to tensorflow.python.trackable.data_structures. The old module will be deleted in version 2.11.\n",
      "Model: \"model\"\n",
      "__________________________________________________________________________________________________\n",
      " Layer (type)                   Output Shape         Param #     Connected to                     \n",
      "==================================================================================================\n",
      " input_1 (InputLayer)           [(None,)]            0           []                               \n",
      "                                                                                                  \n",
      " keras_layer (KerasLayer)       {'input_mask': (Non  0           ['input_1[0][0]']                \n",
      "                                e, 128),                                                          \n",
      "                                 'input_type_ids':                                                \n",
      "                                (None, 128),                                                      \n",
      "                                 'input_word_ids':                                                \n",
      "                                (None, 128)}                                                      \n",
      "                                                                                                  \n",
      " keras_layer_2 (KerasLayer)     (None, 128, 128)     4782465     ['keras_layer[0][0]',            \n",
      "                                                                  'keras_layer[0][1]',            \n",
      "                                                                  'keras_layer[0][2]']            \n",
      "                                                                                                  \n",
      " dropout (Dropout)              (None, 128, 128)     0           ['keras_layer_2[0][0]']          \n",
      "                                                                                                  \n",
      " lstm (LSTM)                    (None, 100)          91600       ['dropout[0][0]']                \n",
      "                                                                                                  \n",
      " dropout_1 (Dropout)            (None, 100)          0           ['lstm[0][0]']                   \n",
      "                                                                                                  \n",
      " dense (Dense)                  (None, 1)            101         ['dropout_1[0][0]']              \n",
      "                                                                                                  \n",
      "==================================================================================================\n",
      "Total params: 4,874,166\n",
      "Trainable params: 4,874,165\n",
      "Non-trainable params: 1\n",
      "__________________________________________________________________________________________________\n",
      "Epoch 1/5\n",
      "63/63 [==============================] - 20s 149ms/step - loss: 0.6951 - accuracy: 0.5450 - val_loss: 0.7023 - val_accuracy: 0.5750\n",
      "Epoch 2/5\n",
      "63/63 [==============================] - 7s 109ms/step - loss: 0.6616 - accuracy: 0.6070 - val_loss: 0.7107 - val_accuracy: 0.5775\n",
      "Epoch 3/5\n",
      "63/63 [==============================] - 5s 74ms/step - loss: 0.5574 - accuracy: 0.7335 - val_loss: 0.6729 - val_accuracy: 0.5800\n",
      "Epoch 4/5\n",
      "63/63 [==============================] - 5s 73ms/step - loss: 0.5090 - accuracy: 0.7595 - val_loss: 0.7641 - val_accuracy: 0.5400\n",
      "Epoch 5/5\n",
      "63/63 [==============================] - 5s 73ms/step - loss: 0.6181 - accuracy: 0.6420 - val_loss: 0.6864 - val_accuracy: 0.5575\n"
     ]
    }
   ],
   "source": [
    "cov_filters = 5\n",
    "cov_kernel = 64\n",
    "pool_size = 4\n",
    "LSTM_units = 100\n",
    "embedding = \"bert\"\n",
    "\n",
    "# Select a model\n",
    "from load_model import lstm\n",
    "# lstm(LSTM_units, embedding)\n",
    "from load_model import cnn_lstm\n",
    "# cnn_lstm(cov_filters, cov_kernel, pool_size, LSTM_units, embedding)\n",
    "from load_model import dense\n",
    "# dense(embedding, neural=64)\n",
    "from load_model import dense_dropout\n",
    "# dense_dropout(embedding, dropout=0.1, neural_1=256, neural_2=64)\n",
    "\n",
    "model = lstm(LSTM_units,embedding=embedding)\n",
    "model.summary()\n",
    "model.compile(loss='binary_crossentropy', optimizer='adam', metrics=['accuracy'])\n",
    "model_history = model.fit(train_x, train_y, validation_data=(val_x, val_y),epochs=5)"
   ]
  },
  {
   "cell_type": "markdown",
   "metadata": {},
   "source": [
    "### Attack (TBC)"
   ]
  },
  {
   "cell_type": "code",
   "execution_count": 5,
   "metadata": {},
   "outputs": [],
   "source": [
    "import numpy as np\n",
    "import torch\n",
    "\n",
    "from textattack.models.wrappers import ModelWrapper\n",
    "from textattack import AttackArgs\n",
    "from textattack import Attacker\n",
    "from textattack.datasets import Dataset\n",
    "\n",
    "class CustomTensorFlowModelWrapper(ModelWrapper):\n",
    "    def __init__(self, model):\n",
    "        self.model = model\n",
    "\n",
    "    def __call__(self, text_input_list):\n",
    "        text_array = np.array(text_input_list)\n",
    "        preds = self.model(text_array).numpy()\n",
    "        logits = torch.exp(-torch.tensor(preds))\n",
    "        logits = 1 / (1 + logits)\n",
    "        logits = logits.squeeze(dim=-1)\n",
    "        # Since this model only has a single output (between 0 or 1),\n",
    "        # we have to add the second dimension.\n",
    "        final_preds = torch.stack((1-logits, logits), dim=1)\n",
    "        return final_preds"
   ]
  },
  {
   "cell_type": "code",
   "execution_count": 7,
   "metadata": {},
   "outputs": [
    {
     "name": "stderr",
     "output_type": "stream",
     "text": [
      "textattack: Unknown if model of class <class 'load_model.lstm'> compatible with goal function <class 'textattack.goal_functions.classification.untargeted_classification.UntargetedClassification'>.\n"
     ]
    }
   ],
   "source": [
    "from textattack.attack_recipes import DeepWordBugGao2018 as attack_recipe\n",
    "\n",
    "i = 100\n",
    "train_dataset = []\n",
    "for example, label in zip(train_sentences[:i], train_labels[:i]):\n",
    "    train_dataset.append((example, int(label)))\n",
    "train_dataset = Dataset(train_dataset)\n",
    "\n",
    "model_wrapper = CustomTensorFlowModelWrapper(model)\n",
    "attack = attack_recipe.build(model_wrapper)\n",
    "\n",
    "attack_args = AttackArgs(\n",
    "    num_examples=i,\n",
    "    checkpoint_interval=5,\n",
    "    disable_stdout=True\n",
    ")\n",
    "\n",
    "attacker = Attacker(attack, train_dataset, attack_args)\n",
    "# attacker.attack_dataset()"
   ]
  }
 ],
 "metadata": {
  "kernelspec": {
   "display_name": "Python 3.9.13 64-bit",
   "language": "python",
   "name": "python3"
  },
  "language_info": {
   "codemirror_mode": {
    "name": "ipython",
    "version": 3
   },
   "file_extension": ".py",
   "mimetype": "text/x-python",
   "name": "python",
   "nbconvert_exporter": "python",
   "pygments_lexer": "ipython3",
   "version": "3.9.13"
  },
  "orig_nbformat": 4,
  "vscode": {
   "interpreter": {
    "hash": "8a25a3045e4a92a066b293f5d1fcbf77c7942245a158d0519cc010931d6ca13e"
   }
  }
 },
 "nbformat": 4,
 "nbformat_minor": 2
}
